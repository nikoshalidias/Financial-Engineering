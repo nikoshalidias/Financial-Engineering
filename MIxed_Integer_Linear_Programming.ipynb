{
  "nbformat": 4,
  "nbformat_minor": 0,
  "metadata": {
    "colab": {
      "provenance": []
    },
    "kernelspec": {
      "name": "python3",
      "display_name": "Python 3"
    },
    "language_info": {
      "name": "python"
    }
  },
  "cells": [
    {
      "cell_type": "code",
      "execution_count": 2,
      "metadata": {
        "colab": {
          "base_uri": "https://localhost:8080/"
        },
        "id": "S25HRCawd4k0",
        "outputId": "b6a808f3-7325-4807-9663-6c2b7ff86545"
      },
      "outputs": [
        {
          "output_type": "stream",
          "name": "stdout",
          "text": [
            "Collecting pulp\n",
            "  Downloading pulp-3.2.2-py3-none-any.whl.metadata (6.9 kB)\n",
            "Downloading pulp-3.2.2-py3-none-any.whl (16.4 MB)\n",
            "\u001b[2K   \u001b[90m━━━━━━━━━━━━━━━━━━━━━━━━━━━━━━━━━━━━━━━━\u001b[0m \u001b[32m16.4/16.4 MB\u001b[0m \u001b[31m71.3 MB/s\u001b[0m eta \u001b[36m0:00:00\u001b[0m\n",
            "\u001b[?25hInstalling collected packages: pulp\n",
            "Successfully installed pulp-3.2.2\n",
            "Λύση:\n",
            " x1 = 4.663865500000\n",
            " x2 = -4.000000000000\n",
            " x3 = 5.000000000000\n",
            " x4 = 67.226891000000\n",
            " objective_max_minus_x4 = -67.226891000000\n"
          ]
        }
      ],
      "source": [
        "# Απαιτεί: pip install pulp\n",
        "!pip install pulp\n",
        "import pulp as pl\n",
        "\n",
        "def solve_mixed_integer():\n",
        "    # Ορίζουμε το πρόβλημα: maximize -x4  <=> minimize x4\n",
        "    prob = pl.LpProblem(\"MixedIntegerProblem\", pl.LpMinimize)\n",
        "\n",
        "    # Μεταβλητές\n",
        "    x1 = pl.LpVariable(\"x1\", lowBound=None, cat=\"Continuous\")  # ελεύθερη\n",
        "    x2 = pl.LpVariable(\"x2\", lowBound=None, cat=\"Integer\")     # ακέραιος\n",
        "    x3 = pl.LpVariable(\"x3\", lowBound=None, cat=\"Integer\")     # ακέραιος\n",
        "    x4 = pl.LpVariable(\"x4\", lowBound=None, cat=\"Continuous\")  # ελάχιστο θέλουμε\n",
        "\n",
        "    # Στόχος: minimize x4  (άρα ισοδύναμο με maximize -x4)\n",
        "    prob += x4, \"Objective_minimize_x4\"\n",
        "\n",
        "    # Περιορισμοί αντίστοιχοι στις ανισώσεις που έδωσες\n",
        "    prob += x4 + 200 * x3 >= 1000, \"c1_from_x3\"\n",
        "    prob += x4 + 200 * x1 >= 1000, \"c2_from_x1_200\"\n",
        "    prob += x4 + 230 * x1 >= 1000, \"c3_from_x1_230\"\n",
        "    prob += x1 + x2 >= 0, \"c4_x1_plus_x2\"\n",
        "    prob += 238 * x1 + 65 * x2 + 30 * x3 == 1000, \"equality_balance\"\n",
        "\n",
        "    # Επίλυση (π.χ. CBC, ο default solver του pulp)\n",
        "    result = prob.solve()\n",
        "\n",
        "    status = pl.LpStatus[prob.status]\n",
        "    if status != \"Optimal\":\n",
        "        print(\"Προειδοποίηση: Η λύση δεν είναι βέλτιστη (status:\", status, \")\")\n",
        "\n",
        "    # Ανάκτηση τιμών\n",
        "    sol = {\n",
        "        \"x1\": x1.value(),\n",
        "        \"x2\": x2.value(),\n",
        "        \"x3\": x3.value(),\n",
        "        \"x4\": x4.value(),\n",
        "        \"objective_max_minus_x4\": -x4.value()  # max -x4\n",
        "    }\n",
        "    return sol\n",
        "\n",
        "if __name__ == \"__main__\":\n",
        "    solution = solve_mixed_integer()\n",
        "    print(\"Λύση:\")\n",
        "    for var, val in solution.items():\n",
        "        if val is None:\n",
        "            print(f\" {var} = None\")\n",
        "        else:\n",
        "            print(f\" {var} = {val:.12f}\" if isinstance(val, float) else f\" {var} = {val}\")\n"
      ]
    }
  ]
}