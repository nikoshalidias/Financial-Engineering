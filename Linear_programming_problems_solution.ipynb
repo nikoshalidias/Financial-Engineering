{
  "nbformat": 4,
  "nbformat_minor": 0,
  "metadata": {
    "colab": {
      "provenance": []
    },
    "kernelspec": {
      "name": "python3",
      "display_name": "Python 3"
    },
    "language_info": {
      "name": "python"
    }
  },
  "cells": [
    {
      "cell_type": "code",
      "execution_count": 1,
      "metadata": {
        "colab": {
          "base_uri": "https://localhost:8080/"
        },
        "id": "fa3amNLcYkeX",
        "outputId": "9d0cc9a1-b708-4d42-af34-4fdfa1d5da00"
      },
      "outputs": [
        {
          "output_type": "stream",
          "name": "stdout",
          "text": [
            "x = [2. 0. 1.]\n",
            "max = 13.0\n"
          ]
        }
      ],
      "source": [
        "import numpy as np\n",
        "from scipy.optimize import linprog\n",
        "\n",
        "def solve_lp(c, A, b):\n",
        "    res = linprog(-np.array(c), A_ub=np.array(A), b_ub=np.array(b),\n",
        "                  bounds=[(0, None)] * len(c), method=\"highs\")\n",
        "    if not res.success:\n",
        "        raise RuntimeError(\"Αποτυχία επίλυσης: \" + res.message)\n",
        "    x = res.x\n",
        "    value = float(np.array(c) @ x)\n",
        "    return x, value\n",
        "\n",
        "x, val = solve_lp([5,4,3],\n",
        "                  [[2,3,1],\n",
        "                   [4,1,2],\n",
        "                   [3,4,2]],\n",
        "                  [5,11,8])\n",
        "print(\"x =\", x)\n",
        "print(\"max =\", val)"
      ]
    }
  ]
}